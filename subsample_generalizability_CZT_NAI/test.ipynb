{
 "cells": [
  {
   "cell_type": "code",
   "execution_count": 1,
   "metadata": {},
   "outputs": [],
   "source": [
    "import pydicom as dicom\n",
    "import pydicom\n",
    "import matplotlib.pylab as plt\n",
    "import numpy as np\n",
    "import os\n",
    "from tempfile import TemporaryFile\n",
    "import pandas as pd\n",
    "import shutil \n",
    "\n",
    "\n",
    "def my_read_bin(cur_inp_file, data_type, input_shape):\n",
    "  A = np.fromfile(cur_inp_file, dtype = data_type)\n",
    "  A[np.isnan(A)] = 0\n",
    "  A = np.reshape(A, input_shape)\n",
    "  #A = np.transpose(A, [2, 1, 0])\n",
    "  return A\n",
    "\n",
    "def my_write_bin(cur_out_file, data_type, data):\n",
    "  #data = np.transpose(data, [2, 1, 0])\n",
    "  data.astype(data_type).tofile(cur_out_file)\n",
    "  return\n",
    "\n",
    "excel_file_name = 'collimator_training_data.xlsx'\n",
    "\n",
    "outputFolder = '/data01/user-storage/y.zezhang/2024_subsample_project/document/collimator_record'\n",
    "#outputFolder = '/data03/user-storage/y.zezhang/Ashequr/data_spie_v2/train_mc_castor/00705441/mod_proj'\n",
    "# Get the list of target patient \n",
    "\n",
    "pat_id_arr_fname = f'/data01/user-storage/y.zezhang/2024_subsample_project/document/zitong_patient_list/pat_id_diseased_v3.txt'\n",
    "diseased_patients = np.loadtxt(pat_id_arr_fname, dtype = 'str', comments=\"#\", delimiter=\",\", unpack=False)\n",
    "\n",
    "pat_id_arr_fname = f'/data01/user-storage/y.zezhang/2024_subsample_project/document/zitong_patient_list/pat_id_healthy_v3.txt'\n",
    "healthy_patients = np.loadtxt(pat_id_arr_fname, dtype = 'str', comments=\"#\", delimiter=\",\", unpack=False)\n"
   ]
  },
  {
   "cell_type": "code",
   "execution_count": 13,
   "metadata": {},
   "outputs": [
    {
     "name": "stdout",
     "output_type": "stream",
     "text": [
      "Columns in the Excel file: Index(['patient', 'Material', 'Collimator Grid Name'], dtype='object')\n",
      "Values have been stored in czt_values.txt and nai_values.txt.\n"
     ]
    }
   ],
   "source": [
    "\n",
    "import pandas as pd\n",
    "\n",
    "# Load the Excel file\n",
    "file_path = '/data01/user-storage/y.zezhang/2024_subsample_project/document/collimator_record/collimator_training_data.xlsx'  # Replace with the path to your Excel file\n",
    "data = pd.read_excel(file_path)\n",
    "\n",
    "# Check column names and print them if needed\n",
    "print(\"Columns in the Excel file:\", data.columns)\n",
    "\n",
    "# Open files for storing the values\n",
    "with open('czt_values.txt', 'w') as czt_file, open('nai_values.txt', 'w') as nai_file:\n",
    "    # Iterate over each row in the DataFrame\n",
    "    for index, row in data.iterrows():\n",
    "        # Check the value in the second column (assuming 0-based indexing)\n",
    "        if row[1] == 'CZT':\n",
    "            # Write the corresponding value from the first column to czt_values.txt\n",
    "            czt_file.write(f\"{row[0]}\\n\")\n",
    "        elif row[1] == 'NaI':\n",
    "            # Write the corresponding value from the first column to nai_values.txt\n",
    "            nai_file.write(f\"{row[0]}\\n\")\n",
    "\n",
    "print(\"Values have been stored in czt_values.txt and nai_values.txt.\")"
   ]
  },
  {
   "cell_type": "code",
   "execution_count": 26,
   "metadata": {},
   "outputs": [],
   "source": [
    "file_path = '/data01/user-storage/y.zezhang/2024_subsample_project/document/collimator_record/collimator_training_data.xlsx'  # Replace with the path to your Excel file\n",
    "data = pd.read_excel(file_path)\n"
   ]
  },
  {
   "cell_type": "code",
   "execution_count": 27,
   "metadata": {},
   "outputs": [
    {
     "data": {
      "text/plain": [
       "0     61526898\n",
       "1     40209428\n",
       "2     90562495\n",
       "3     11455619\n",
       "4     40003665\n",
       "5     41974409\n",
       "6     59188815\n",
       "7     85138206\n",
       "8     89245464\n",
       "9     95903266\n",
       "10    45689481\n",
       "11    82583595\n",
       "12    69310810\n",
       "13    58271172\n",
       "14    69815284\n",
       "15     6978730\n",
       "16    53673069\n",
       "17    82621453\n",
       "18    76387305\n",
       "19    23789089\n",
       "20    79560851\n",
       "21    98399972\n",
       "22    80846029\n",
       "23    22371762\n",
       "24    28411867\n",
       "25     1070987\n",
       "26    69574890\n",
       "27    41136176\n",
       "28    77817465\n",
       "29    36198859\n",
       "Name: patient, dtype: int64"
      ]
     },
     "execution_count": 27,
     "metadata": {},
     "output_type": "execute_result"
    }
   ],
   "source": [
    "\n",
    "data.patient[0:30]"
   ]
  },
  {
   "cell_type": "code",
   "execution_count": null,
   "metadata": {},
   "outputs": [],
   "source": [
    "np.array(data.patient,dtype=int64)"
   ]
  }
 ],
 "metadata": {
  "kernelspec": {
   "display_name": "tf_gpu",
   "language": "python",
   "name": "python3"
  },
  "language_info": {
   "codemirror_mode": {
    "name": "ipython",
    "version": 3
   },
   "file_extension": ".py",
   "mimetype": "text/x-python",
   "name": "python",
   "nbconvert_exporter": "python",
   "pygments_lexer": "ipython3",
   "version": "3.9.16"
  }
 },
 "nbformat": 4,
 "nbformat_minor": 2
}
