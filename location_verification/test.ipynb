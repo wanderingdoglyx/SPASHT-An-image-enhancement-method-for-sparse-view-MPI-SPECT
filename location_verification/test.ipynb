{
 "cells": [
  {
   "cell_type": "code",
   "execution_count": 60,
   "metadata": {},
   "outputs": [],
   "source": [
    "import pandas as pd\n",
    "import matplotlib.pyplot as plt\n",
    "import numpy as np\n",
    "import glob\n",
    "import os\n",
    "import datetime\n",
    "\n",
    "pilot_study_folder_path='/home/y.zezhang/2024_false_defect_project/location_verification/pilot_study'\n",
    "\n",
    "low_range_extend=1\n",
    "high_range_extend=1\n",
    "\n",
    "def actual_coordinate(x,y,number_of_image_row=15,number_of_image_column=4):\n",
    "    \n",
    "    block_length_x=1/number_of_image_row\n",
    "    block_length_y=1/number_of_image_column\n",
    "    \n",
    "    actual_x=np.array(x) % block_length_x\n",
    "    actual_y=np.array(y) % block_length_y\n",
    "    \n",
    "    return actual_x,actual_y\n",
    "# Function to process the coordinates column\n",
    "def process_coordinates(coordinates):\n",
    "    x = []\n",
    "    y = []\n",
    "    for coord in coordinates:\n",
    "        # Remove parentheses and split by comma\n",
    "        coord = coord.replace('(', '').replace(')', '')\n",
    "        coord = coord.replace('X=', '').replace('Y=', '')\n",
    "        coord_split = coord.split(',')\n",
    "        \n",
    "        # Convert strings to numbers and store in arrays\n",
    "        x.append(float(coord_split[0]))\n",
    "        y.append(float(coord_split[1]))\n",
    "    return x, y\n",
    "\n",
    "def get_coordinates(coord_string):\n",
    "    # Remove the 'X=' and 'Y=' substrings and the spaces\n",
    "    coord_string = coord_string.replace('X=', '').replace('Y=', '').replace(' ', '')\n",
    "    \n",
    "    # Split the string by comma\n",
    "    coord_split = coord_string.split(',')\n",
    "    \n",
    "    # Convert strings to numbers\n",
    "    x = float(coord_split[0])\n",
    "    y = float(coord_split[1])\n",
    "    \n",
    "    return x, y\n",
    "\n",
    "# Function to read CSV file and store in arrays\n",
    "def read_csv_to_arrays(file_path):\n",
    "    # Read the CSV file\n",
    "    df = pd.read_csv(file_path)\n",
    "\n",
    "    # Convert DataFrame to list of arrays\n",
    "    arrays = df.values.tolist()\n",
    "\n",
    "    return arrays\n",
    "\n",
    "# Function to read all CSV files in a folder\n",
    "def read_all_csvs_in_folder(folder_path):\n",
    "    # List to store data from all files\n",
    "    all_data = []\n",
    "\n",
    "    # Get all CSV files in the folder\n",
    "    csv_files = glob.glob(os.path.join(folder_path, '*.csv'))\n",
    "\n",
    "    # Loop through each file and read its data\n",
    "    for file in csv_files:\n",
    "        print(f'Reading {file}...')\n",
    "        data_arrays = read_csv_to_arrays(file)\n",
    "        all_data.append(data_arrays)\n",
    "\n",
    "    return all_data\n",
    "\n",
    "\n",
    "# Read the first CSV file da\n",
    "filename_da_first = 'results_first_row_da.csv' # replace with your actual file name\n",
    "data_da_first = pd.read_csv(filename_da_first)\n",
    "\n",
    "# Extract and process the Coordinates column from the first file\n",
    "x_da_first, y_da_first = process_coordinates(data_da_first['Coordinates'])\n",
    "actual_x_da_first,actual_y_da_first=actual_coordinate(x_da_first, y_da_first)\n",
    "\n",
    "\n",
    "# Read the second CSV file da\n",
    "filename_da_second = 'results_second_row_da.csv' # replace with your actual file name\n",
    "data_da_second = pd.read_csv(filename_da_second)\n",
    "\n",
    "# Extract and process the Coordinates column from the second file\n",
    "x_da_second, y_da_second = process_coordinates(data_da_second['Coordinates'])\n",
    "actual_x_da_second,actual_y_da_second=actual_coordinate(x_da_second, y_da_second)\n",
    "\n",
    "\n",
    "# Read the first CSV file di\n",
    "filename_di_first = 'results_first_row_di.csv' # replace with your actual file name\n",
    "data_di_first = pd.read_csv(filename_di_first)\n",
    "\n",
    "# Extract and process the Coordinates column from the first file\n",
    "x_di_first, y_di_first = process_coordinates(data_di_first['Coordinates'])\n",
    "actual_x_di_first,actual_y_di_first=actual_coordinate(x_di_first, y_di_first)\n",
    "\n",
    "\n",
    "# Read the second CSV file di\n",
    "filename_di_second = 'results_second_row_di.csv' # replace with your actual file name\n",
    "data_di_second = pd.read_csv(filename_di_second)\n",
    "\n",
    "# Extract and process the Coordinates column from the second file\n",
    "x_di_second, y_di_second = process_coordinates(data_di_second['Coordinates'])\n",
    "actual_x_di_second,actual_y_di_second=actual_coordinate(x_di_second, y_di_second)\n",
    "\n",
    "actual_x_da=np.concatenate((actual_x_da_first,actual_x_da_second))\n",
    "actual_y_da=np.concatenate((actual_y_da_first,actual_y_da_second))\n",
    "actual_x_di=np.concatenate((actual_x_di_first,actual_x_di_second))\n",
    "actual_y_di=np.concatenate((actual_y_di_first,actual_y_di_second))\n",
    "\n",
    "\n",
    "da_range_x=[min(actual_x_da)*low_range_extend,max(actual_x_da)*high_range_extend]\n",
    "da_range_y=[min(actual_y_da)*low_range_extend,max(actual_y_da)*high_range_extend]\n",
    "di_range_x=[min(actual_x_di)*low_range_extend,max(actual_x_di)*high_range_extend]\n",
    "di_range_y=[min(actual_y_di)*low_range_extend,max(actual_y_di)*high_range_extend]"
   ]
  },
  {
   "cell_type": "code",
   "execution_count": 61,
   "metadata": {},
   "outputs": [
    {
     "name": "stdout",
     "output_type": "stream",
     "text": [
      "Reading /home/y.zezhang/2024_false_defect_project/location_verification/pilot_study/nuri_results.csv...\n",
      "Reading /home/y.zezhang/2024_false_defect_project/location_verification/pilot_study/ze_results.csv...\n",
      "Reading /home/y.zezhang/2024_false_defect_project/location_verification/pilot_study/zi_results.csv...\n"
     ]
    },
    {
     "ename": "AttributeError",
     "evalue": "'float' object has no attribute 'replace'",
     "output_type": "error",
     "traceback": [
      "\u001b[0;31m---------------------------------------------------------------------------\u001b[0m",
      "\u001b[0;31mAttributeError\u001b[0m                            Traceback (most recent call last)",
      "Input \u001b[0;32mIn [61]\u001b[0m, in \u001b[0;36m<cell line: 2>\u001b[0;34m()\u001b[0m\n\u001b[1;32m      2\u001b[0m \u001b[38;5;28;01mfor\u001b[39;00m file_data \u001b[38;5;129;01min\u001b[39;00m polit_data:\n\u001b[1;32m      3\u001b[0m     \u001b[38;5;28;01mfor\u001b[39;00m row \u001b[38;5;129;01min\u001b[39;00m file_data:\n\u001b[0;32m----> 4\u001b[0m         x_tem, y_tem \u001b[38;5;241m=\u001b[39m \u001b[43mget_coordinates\u001b[49m\u001b[43m(\u001b[49m\u001b[43mrow\u001b[49m\u001b[43m[\u001b[49m\u001b[38;5;241;43m4\u001b[39;49m\u001b[43m]\u001b[49m\u001b[43m)\u001b[49m\n\u001b[1;32m      5\u001b[0m         x_tem_actual, y_tem_actual \u001b[38;5;241m=\u001b[39m actual_coordinate(x_tem, y_tem)\n",
      "Input \u001b[0;32mIn [60]\u001b[0m, in \u001b[0;36mget_coordinates\u001b[0;34m(coord_string)\u001b[0m\n\u001b[1;32m     37\u001b[0m \u001b[38;5;28;01mdef\u001b[39;00m \u001b[38;5;21mget_coordinates\u001b[39m(coord_string):\n\u001b[1;32m     38\u001b[0m     \u001b[38;5;66;03m# Remove the 'X=' and 'Y=' substrings and the spaces\u001b[39;00m\n\u001b[0;32m---> 39\u001b[0m     coord_string \u001b[38;5;241m=\u001b[39m \u001b[43mcoord_string\u001b[49m\u001b[38;5;241;43m.\u001b[39;49m\u001b[43mreplace\u001b[49m(\u001b[38;5;124m'\u001b[39m\u001b[38;5;124mX=\u001b[39m\u001b[38;5;124m'\u001b[39m, \u001b[38;5;124m'\u001b[39m\u001b[38;5;124m'\u001b[39m)\u001b[38;5;241m.\u001b[39mreplace(\u001b[38;5;124m'\u001b[39m\u001b[38;5;124mY=\u001b[39m\u001b[38;5;124m'\u001b[39m, \u001b[38;5;124m'\u001b[39m\u001b[38;5;124m'\u001b[39m)\u001b[38;5;241m.\u001b[39mreplace(\u001b[38;5;124m'\u001b[39m\u001b[38;5;124m \u001b[39m\u001b[38;5;124m'\u001b[39m, \u001b[38;5;124m'\u001b[39m\u001b[38;5;124m'\u001b[39m)\n\u001b[1;32m     41\u001b[0m     \u001b[38;5;66;03m# Split the string by comma\u001b[39;00m\n\u001b[1;32m     42\u001b[0m     coord_split \u001b[38;5;241m=\u001b[39m coord_string\u001b[38;5;241m.\u001b[39msplit(\u001b[38;5;124m'\u001b[39m\u001b[38;5;124m,\u001b[39m\u001b[38;5;124m'\u001b[39m)\n",
      "\u001b[0;31mAttributeError\u001b[0m: 'float' object has no attribute 'replace'"
     ]
    }
   ],
   "source": [
    "polit_data=read_all_csvs_in_folder(pilot_study_folder_path)\n",
    "for file_data in polit_data:\n",
    "    for row in file_data:\n",
    "        x_tem, y_tem = get_coordinates(row[4])\n",
    "        x_tem_actual, y_tem_actual = actual_coordinate(x_tem, y_tem)"
   ]
  },
  {
   "cell_type": "code",
   "execution_count": 46,
   "metadata": {},
   "outputs": [],
   "source": [
    "x_tem, y_tem =get_coordinates(row[4])"
   ]
  },
  {
   "cell_type": "code",
   "execution_count": 49,
   "metadata": {},
   "outputs": [],
   "source": [
    "x_tem_actual, y_tem_actual = actual_coordinate(x_tem, y_tem)"
   ]
  },
  {
   "cell_type": "code",
   "execution_count": 62,
   "metadata": {},
   "outputs": [
    {
     "data": {
      "text/plain": [
       "[0.03533333333333333, 0.044066666666666726]"
      ]
     },
     "execution_count": 62,
     "metadata": {},
     "output_type": "execute_result"
    }
   ],
   "source": [
    "da_range_x"
   ]
  },
  {
   "cell_type": "code",
   "execution_count": 65,
   "metadata": {},
   "outputs": [
    {
     "data": {
      "text/plain": [
       "[0.06969999999999998, 0.1161]"
      ]
     },
     "execution_count": 65,
     "metadata": {},
     "output_type": "execute_result"
    }
   ],
   "source": [
    "da_range_y"
   ]
  },
  {
   "cell_type": "code",
   "execution_count": 66,
   "metadata": {},
   "outputs": [
    {
     "data": {
      "text/plain": [
       "[0.0979, 0.1678]"
      ]
     },
     "execution_count": 66,
     "metadata": {},
     "output_type": "execute_result"
    }
   ],
   "source": [
    "di_range_y"
   ]
  },
  {
   "cell_type": "code",
   "execution_count": 4,
   "metadata": {},
   "outputs": [],
   "source": [
    "file_data=polit_data[0]\n",
    "row = file_data[0]"
   ]
  },
  {
   "cell_type": "code",
   "execution_count": 6,
   "metadata": {},
   "outputs": [
    {
     "data": {
      "text/plain": [
       "'X=0.7650, Y=0.1019'"
      ]
     },
     "execution_count": 6,
     "metadata": {},
     "output_type": "execute_result"
    }
   ],
   "source": [
    "row[4]"
   ]
  },
  {
   "cell_type": "code",
   "execution_count": 11,
   "metadata": {},
   "outputs": [
    {
     "data": {
      "text/plain": [
       "(0.765, 0.1019)"
      ]
     },
     "execution_count": 11,
     "metadata": {},
     "output_type": "execute_result"
    }
   ],
   "source": [
    "get_coordinates(row[4])"
   ]
  },
  {
   "cell_type": "code",
   "execution_count": 9,
   "metadata": {},
   "outputs": [
    {
     "data": {
      "text/plain": [
       "0     X=0.9740, Y=0.0834\n",
       "1     X=0.9740, Y=0.0910\n",
       "2     X=0.9706, Y=0.0859\n",
       "3     X=0.9727, Y=0.0960\n",
       "4     X=0.9747, Y=0.0759\n",
       "5     X=0.8381, Y=0.0834\n",
       "6     X=0.9095, Y=0.0935\n",
       "7     X=0.9747, Y=0.1035\n",
       "8     X=0.9727, Y=0.0960\n",
       "9     X=0.9754, Y=0.0834\n",
       "10    X=0.9774, Y=0.1035\n",
       "11    X=0.9761, Y=0.0885\n",
       "12    X=0.9706, Y=0.0784\n",
       "13    X=0.9693, Y=0.0935\n",
       "14    X=0.9761, Y=0.1061\n",
       "15    X=0.9720, Y=0.0885\n",
       "16    X=0.9706, Y=0.0859\n",
       "17    X=0.9747, Y=0.1035\n",
       "18    X=0.9720, Y=0.0834\n",
       "19    X=0.9706, Y=0.0859\n",
       "20    X=0.9706, Y=0.0985\n",
       "21    X=0.9720, Y=0.0910\n",
       "22    X=0.9720, Y=0.0885\n",
       "23    X=0.9761, Y=0.0759\n",
       "24    X=0.6389, Y=0.0985\n",
       "25    X=0.9754, Y=0.0834\n",
       "26    X=0.9713, Y=0.0910\n",
       "27    X=0.6389, Y=0.1010\n",
       "28    X=0.9727, Y=0.0910\n",
       "29    X=0.9081, Y=0.1161\n",
       "Name: Coordinates, dtype: object"
      ]
     },
     "execution_count": 9,
     "metadata": {},
     "output_type": "execute_result"
    }
   ],
   "source": [
    "data_da_first['Coordinates']"
   ]
  }
 ],
 "metadata": {
  "kernelspec": {
   "display_name": "tf-gpu",
   "language": "python",
   "name": "python3"
  },
  "language_info": {
   "codemirror_mode": {
    "name": "ipython",
    "version": 3
   },
   "file_extension": ".py",
   "mimetype": "text/x-python",
   "name": "python",
   "nbconvert_exporter": "python",
   "pygments_lexer": "ipython3",
   "version": "3.9.16"
  }
 },
 "nbformat": 4,
 "nbformat_minor": 2
}
