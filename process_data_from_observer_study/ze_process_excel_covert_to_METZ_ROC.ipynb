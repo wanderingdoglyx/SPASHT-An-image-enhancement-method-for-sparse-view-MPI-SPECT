{
 "cells": [
  {
   "cell_type": "code",
   "execution_count": 9,
   "metadata": {},
   "outputs": [
    {
     "name": "stdout",
     "output_type": "stream",
     "text": [
      "Reading /data01/user-storage/y.zezhang/2024_false_defect_project/pilot_study/observer_study/zi_results.csv...\n",
      "Reading /data01/user-storage/y.zezhang/2024_false_defect_project/pilot_study/observer_study/ze_results.csv...\n",
      "Reading /data01/user-storage/y.zezhang/2024_false_defect_project/pilot_study/observer_study/nuri_results.csv...\n"
     ]
    }
   ],
   "source": [
    "import pandas as pd\n",
    "import glob\n",
    "import os\n",
    "import datetime\n",
    "\n",
    "study_name='pilot_study_METZ'\n",
    "\n",
    "# Function to read CSV file and store in arrays\n",
    "def read_csv_to_arrays(file_path):\n",
    "    # Read the CSV file\n",
    "    df = pd.read_csv(file_path)\n",
    "\n",
    "    # Convert DataFrame to list of arrays\n",
    "    arrays = df.values.tolist()\n",
    "\n",
    "    return arrays\n",
    "\n",
    "# Function to read all CSV files in a folder\n",
    "def read_all_csvs_in_folder(folder_path):\n",
    "    # List to store data from all files\n",
    "    all_data = []\n",
    "\n",
    "    # Get all CSV files in the folder\n",
    "    csv_files = glob.glob(os.path.join(folder_path, '*.csv'))\n",
    "\n",
    "    # Loop through each file and read its data\n",
    "    for file in csv_files:\n",
    "        print(f'Reading {file}...')\n",
    "        data_arrays = read_csv_to_arrays(file)\n",
    "        all_data.append(data_arrays)\n",
    "\n",
    "    return all_data\n",
    "\n",
    "def replace_chars(input_string):\n",
    "    # Replace '.' with '_'\n",
    "    result_string = input_string.replace('.', '_')\n",
    "    # Replace '@' with '_'\n",
    "    result_string = result_string.replace('@', '_')\n",
    "    return result_string\n",
    "\n",
    "\n",
    "# Example usage\n",
    "folder_path = '/data01/user-storage/y.zezhang/2024_false_defect_project/pilot_study/observer_study'  # Replace with your Excel file path\n",
    "\n",
    "all_csv_data = read_all_csvs_in_folder(folder_path)\n",
    "\n",
    "\n",
    "#==========================================\n",
    "# save all random parameters setting text\n",
    "#==========================================\n",
    "txt_filename=f'{study_name}.txt'\n",
    "\n",
    "\n"
   ]
  },
  {
   "cell_type": "code",
   "execution_count": 13,
   "metadata": {},
   "outputs": [],
   "source": [
    "\n",
    "for file_data in all_csv_data:\n",
    "    \n",
    "    trainer_name=file_data[0][0]\n",
    "    trainer_name=replace_chars(trainer_name)\n",
    "    txt_filename=f'{study_name}_{trainer_name}.txt'\n",
    "    \n",
    "    with open(txt_filename, \"w\") as file:\n",
    "        lines = [f'Initial Line\\n', \n",
    "            f'Large\\n',]\n",
    "        file.writelines(lines)\n",
    "        for row in file_data:\n",
    "            if int(row[2]) ==0:\n",
    "                lines= [f'{row[3]}\\n',]\n",
    "                file.writelines(lines)\n",
    "        lines= [f'*\\n',]\n",
    "        file.writelines(lines)\n",
    "        for row in file_data:\n",
    "            if int(row[2]) ==1:\n",
    "                lines= [f'{row[3]}\\n',]\n",
    "                file.writelines(lines)\n",
    "        lines= [f'*\\n',]\n",
    "        file.writelines(lines)  \n",
    "    file.close()    "
   ]
  }
 ],
 "metadata": {
  "kernelspec": {
   "display_name": "tf-gpu",
   "language": "python",
   "name": "python3"
  },
  "language_info": {
   "codemirror_mode": {
    "name": "ipython",
    "version": 3
   },
   "file_extension": ".py",
   "mimetype": "text/x-python",
   "name": "python",
   "nbconvert_exporter": "python",
   "pygments_lexer": "ipython3",
   "version": "3.9.16"
  }
 },
 "nbformat": 4,
 "nbformat_minor": 2
}
