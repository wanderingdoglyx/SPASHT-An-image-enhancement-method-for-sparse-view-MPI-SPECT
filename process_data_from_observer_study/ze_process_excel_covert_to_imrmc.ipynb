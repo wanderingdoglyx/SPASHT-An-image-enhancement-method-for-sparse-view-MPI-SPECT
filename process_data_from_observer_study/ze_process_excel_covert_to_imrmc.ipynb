{
 "cells": [
  {
   "cell_type": "code",
   "execution_count": 1,
   "metadata": {},
   "outputs": [
    {
     "ename": "IndexError",
     "evalue": "list index out of range",
     "output_type": "error",
     "traceback": [
      "\u001b[0;31m---------------------------------------------------------------------------\u001b[0m",
      "\u001b[0;31mIndexError\u001b[0m                                Traceback (most recent call last)",
      "Cell \u001b[0;32mIn[1], line 66\u001b[0m\n\u001b[1;32m     57\u001b[0m lines \u001b[38;5;241m=\u001b[39m [\u001b[38;5;124mf\u001b[39m\u001b[38;5;124m'\u001b[39m\u001b[38;5;124mSimulated iMRMC input from \u001b[39m\u001b[38;5;132;01m{\u001b[39;00mcurrent_time\u001b[38;5;132;01m}\u001b[39;00m\u001b[38;5;130;01m\\n\u001b[39;00m\u001b[38;5;124m'\u001b[39m, \n\u001b[1;32m     58\u001b[0m         \u001b[38;5;124mf\u001b[39m\u001b[38;5;124m'\u001b[39m\u001b[38;5;130;01m\\n\u001b[39;00m\u001b[38;5;124m'\u001b[39m,\n\u001b[1;32m     59\u001b[0m         \u001b[38;5;124mf\u001b[39m\u001b[38;5;124m'\u001b[39m\u001b[38;5;124mNR: \u001b[39m\u001b[38;5;132;01m{\u001b[39;00mnumber_of_reader\u001b[38;5;132;01m}\u001b[39;00m\u001b[38;5;130;01m\\n\u001b[39;00m\u001b[38;5;124m'\u001b[39m,\n\u001b[0;32m   (...)\u001b[0m\n\u001b[1;32m     63\u001b[0m         \u001b[38;5;124mf\u001b[39m\u001b[38;5;124m'\u001b[39m\u001b[38;5;130;01m\\n\u001b[39;00m\u001b[38;5;124m'\u001b[39m,\n\u001b[1;32m     64\u001b[0m         \u001b[38;5;124mf\u001b[39m\u001b[38;5;124m'\u001b[39m\u001b[38;5;124mBEGIN DATA:\u001b[39m\u001b[38;5;130;01m\\n\u001b[39;00m\u001b[38;5;124m'\u001b[39m,]\n\u001b[1;32m     65\u001b[0m file\u001b[38;5;241m.\u001b[39mwritelines(lines)\n\u001b[0;32m---> 66\u001b[0m file_data \u001b[38;5;241m=\u001b[39m \u001b[43mall_csv_data\u001b[49m\u001b[43m[\u001b[49m\u001b[38;5;241;43m0\u001b[39;49m\u001b[43m]\u001b[49m\n\u001b[1;32m     67\u001b[0m \u001b[38;5;28;01mfor\u001b[39;00m row \u001b[38;5;129;01min\u001b[39;00m file_data:\n\u001b[1;32m     68\u001b[0m         line \u001b[38;5;241m=\u001b[39m [\u001b[38;5;124mf\u001b[39m\u001b[38;5;124m'\u001b[39m\u001b[38;5;124m-1,case\u001b[39m\u001b[38;5;132;01m{\u001b[39;00mrow[\u001b[38;5;241m1\u001b[39m]\u001b[38;5;132;01m}\u001b[39;00m\u001b[38;5;132;01m{\u001b[39;00m\u001b[38;5;28mint\u001b[39m(row[\u001b[38;5;241m2\u001b[39m])\u001b[38;5;132;01m}\u001b[39;00m\u001b[38;5;124m,0,\u001b[39m\u001b[38;5;132;01m{\u001b[39;00m\u001b[38;5;28mint\u001b[39m(row[\u001b[38;5;241m2\u001b[39m])\u001b[38;5;132;01m}\u001b[39;00m\u001b[38;5;130;01m\\n\u001b[39;00m\u001b[38;5;124m'\u001b[39m, ]\n",
      "\u001b[0;31mIndexError\u001b[0m: list index out of range"
     ]
    }
   ],
   "source": [
    "import pandas as pd\n",
    "import glob\n",
    "import os\n",
    "import datetime\n",
    "\n",
    "study_name='pilot_study'\n",
    "modalities=3\n",
    "number_of_reader=1\n",
    "number_of_nondiseased_case=30\n",
    "number_of_diseased_case=30\n",
    "\n",
    "#name_of_modalities=['sparse_view','task-specific','full_view']\n",
    "name_of_modalities=['task-specific','full_view','sparse_view']\n",
    "\n",
    "# Function to read CSV file and store in arrays\n",
    "def read_csv_to_arrays(file_path):\n",
    "    # Read the CSV file\n",
    "    df = pd.read_csv(file_path)\n",
    "\n",
    "    # Convert DataFrame to list of arrays\n",
    "    arrays = df.values.tolist()\n",
    "\n",
    "    return arrays\n",
    "\n",
    "# Function to read all CSV files in a folder\n",
    "def read_all_csvs_in_folder(folder_path):\n",
    "    # List to store data from all files\n",
    "    all_data = []\n",
    "\n",
    "    # Get all CSV files in the folder\n",
    "    csv_files = glob.glob(os.path.join(folder_path, '*.csv'))\n",
    "\n",
    "    # Loop through each file and read its data\n",
    "    for file in csv_files:\n",
    "        print(f'Reading {file}...')\n",
    "        data_arrays = read_csv_to_arrays(file)\n",
    "        all_data.append(data_arrays)\n",
    "\n",
    "    return all_data\n",
    "\n",
    "\n",
    "\n",
    "# Example usage\n",
    "#folder_path = '/data01/user-storage/y.zezhang/2024_subsample_project/observer_study/manually selected patient result'  # Replace with your Excel file path\n",
    "folder_path = '/home/y.zezhang/2024_subsample_project_latest/observer_study/process_data_from_observer_study/results'#'results'  # Replace with your Excel file path\n",
    "all_csv_data = read_all_csvs_in_folder(folder_path)\n",
    "\n",
    "\n",
    "#==========================================\n",
    "# save all random parameters setting text\n",
    "#==========================================\n",
    "txt_filename=f'{study_name}.imrmc'\n",
    "current_time= datetime.datetime.now()\n",
    "\n",
    "\n",
    "with open(txt_filename, \"w\") as file:\n",
    "    lines = [f'Simulated iMRMC input from {current_time}\\n', \n",
    "            f'\\n',\n",
    "            f'NR: {number_of_reader}\\n',\n",
    "            f'N0: {number_of_nondiseased_case*modalities}\\n',\n",
    "            f'N1: {number_of_diseased_case*modalities}\\n',\n",
    "            f'NM: {modalities}\\n',\n",
    "            f'\\n',\n",
    "            f'BEGIN DATA:\\n',]\n",
    "    file.writelines(lines)\n",
    "    file_data = all_csv_data[0]\n",
    "    for row in file_data:\n",
    "            line = [f'-1,case{row[1]}{int(row[2])},0,{int(row[2])}\\n', ]\n",
    "            #line = [f'0,case{row[1]}{int(row[2])},-1,{int(row[2])}\\n', ]\n",
    "            #print(row)\n",
    "            file.writelines(line)\n",
    "                \n",
    "    for file_data in all_csv_data:\n",
    "        for row in file_data:\n",
    "                #line = [f'reader{row[0]},case{row[1]}{int(row[2])},{name_of_modalities[(row[1]-1)%int(modalities)]},{(row[3])}\\n', ]\n",
    "                line = [f'reader{row[0]},case{row[1]}{int(row[2])},{name_of_modalities[(row[1]-1)%int(modalities)]},{(7-(row[3])+1)}\\n', ]\n",
    "                #print(row)\n",
    "                file.writelines(line)\n",
    "file.close()\n",
    "#run in jupyter notebook"
   ]
  },
  {
   "cell_type": "code",
   "execution_count": 3,
   "metadata": {},
   "outputs": [],
   "source": [
    "csv_files = glob.glob(os.path.join(folder_path, '*.csv'))"
   ]
  }
 ],
 "metadata": {
  "kernelspec": {
   "display_name": "tf_gpu04",
   "language": "python",
   "name": "python3"
  },
  "language_info": {
   "codemirror_mode": {
    "name": "ipython",
    "version": 3
   },
   "file_extension": ".py",
   "mimetype": "text/x-python",
   "name": "python",
   "nbconvert_exporter": "python",
   "pygments_lexer": "ipython3",
   "version": "3.9.20"
  }
 },
 "nbformat": 4,
 "nbformat_minor": 2
}
